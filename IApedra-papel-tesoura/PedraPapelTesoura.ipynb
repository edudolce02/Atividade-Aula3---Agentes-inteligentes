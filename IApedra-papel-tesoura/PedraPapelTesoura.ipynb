{
  "nbformat": 4,
  "nbformat_minor": 0,
  "metadata": {
    "colab": {
      "provenance": [],
      "authorship_tag": "ABX9TyN/RtuNy99uKxvX1o4Qa1cK",
      "include_colab_link": true
    },
    "kernelspec": {
      "name": "python3",
      "display_name": "Python 3"
    },
    "language_info": {
      "name": "python"
    }
  },
  "cells": [
    {
      "cell_type": "markdown",
      "metadata": {
        "id": "view-in-github",
        "colab_type": "text"
      },
      "source": [
        "<a href=\"https://colab.research.google.com/github/LeonardoDrLourenco/IApedra-papel-tesoura/blob/main/PedraPapelTesoura.ipynb\" target=\"_parent\"><img src=\"https://colab.research.google.com/assets/colab-badge.svg\" alt=\"Open In Colab\"/></a>"
      ]
    },
    {
      "cell_type": "code",
      "execution_count": null,
      "metadata": {
        "id": "2C_Zp_DuzwPJ"
      },
      "outputs": [],
      "source": [
        "import random"
      ]
    },
    {
      "cell_type": "code",
      "source": [
        "opcoes = [\"Pedra\", \"Papel\", \"Tesoura\"]"
      ],
      "metadata": {
        "id": "dOFPdm3D02Xr"
      },
      "execution_count": null,
      "outputs": []
    },
    {
      "cell_type": "code",
      "source": [
        "def vencedor(jogador, IA):\n",
        "\n",
        "  if jogador == IA:\n",
        "    return \"Empatou!\"\n",
        "\n",
        "  elif jogador == \"Pedra\" and IA == \"Tesoura\":\n",
        "    return \"Pedra quebra a tesoura. Pedra ganha!\"\n",
        "\n",
        "  elif jogador == \"Papel\" and IA == \"Pedra\":\n",
        "    return \"Papel embrulha a pedra. Papel ganha!\"\n",
        "\n",
        "  elif jogador == \"Tesoura\" and IA == \"Papel\":\n",
        "    return \"Tesoura corta o papel. Tesoura ganha!\"\n",
        "\n",
        "  else:\n",
        "    return \"Você perdeu! :(\""
      ],
      "metadata": {
        "id": "oUUb_Mhr14cd"
      },
      "execution_count": null,
      "outputs": []
    },
    {
      "cell_type": "code",
      "source": [
        "while True:\n",
        "  jogador = input(\"Digite sua jogada (Pedra, Papel ou Tesoura): \").strip().capitalize()\n",
        "\n",
        "  if jogador not in opcoes:\n",
        "    print(\"Jogada inválida! Tente novamente.\")\n",
        "    continue\n",
        "\n",
        "  IA = random.choice(opcoes)\n",
        "\n",
        "  print(f\"Você jogou {jogador}\")\n",
        "  print(f\"A IA jogou {IA}\")\n",
        "\n",
        "  print(vencedor(jogador, IA))\n",
        "\n",
        "  continuar = input(\"Deseja continuar jogando? (S/N): \").strip().upper()\n",
        "  if continuar not in [\"S\", \"SIM\"]:\n",
        "    break"
      ],
      "metadata": {
        "id": "x5Fo5s2-3cMk"
      },
      "execution_count": null,
      "outputs": []
    },
    {
      "cell_type": "code",
      "source": [],
      "metadata": {
        "id": "QWeK3XdO3-qQ"
      },
      "execution_count": null,
      "outputs": []
    }
  ]
}